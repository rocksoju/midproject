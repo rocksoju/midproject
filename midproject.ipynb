{
 "cells": [
  {
   "cell_type": "code",
   "execution_count": null,
   "metadata": {
    "collapsed": true
   },
   "outputs": [],
   "source": [
    "def add_newentry():\n",
    "    with open(\"data.txt\", \"r\") as f:\n",
    "        f_data= f.readlines()\n",
    "        f.close()\n",
    "    with open(\"data.txt\", \"a+\") as f:\n",
    "        addid = str(input(\"Input Add student ID : \"))\n",
    "        addname = str(input(\"Input Add student name : \"))\n",
    "        addbirth = str(input(\"Input Add student Date Of Birth(yyyy-mm-dd) : \"))\n",
    "        addmid = str(input(\"Input Add student midscore : \"))\n",
    "        addfinal = str(input(\"Input Add student finalscore : \"))\n",
    "        index = str(len(f_data)+1)\n",
    "        values = [index, addid,addname,addbirth,addmid,addfinal]\n",
    "        for value in values:\n",
    "            str_value = str(value)\n",
    "            f.write(str_value)\n",
    "            f.write(\"\\t\")\n",
    "        f.write(\"\\n\")\n",
    "        f.close()"
   ]
  }
 ],
 "metadata": {
  "kernelspec": {
   "display_name": "Python 3",
   "language": "python",
   "name": "python3"
  },
  "language_info": {
   "codemirror_mode": {
    "name": "ipython",
    "version": 3
   },
   "file_extension": ".py",
   "mimetype": "text/x-python",
   "name": "python",
   "nbconvert_exporter": "python",
   "pygments_lexer": "ipython3",
   "version": "3.6.0"
  }
 },
 "nbformat": 4,
 "nbformat_minor": 2
}
