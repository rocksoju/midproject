{
 "cells": [
  {
   "cell_type": "code",
   "execution_count": 1,
   "metadata": {
    "collapsed": true
   },
   "outputs": [],
   "source": [
    "def add_newentry():\n",
    "    with open(\"data.txt\", \"r\") as f:\n",
    "        f_data= f.readlines()\n",
    "        f.close()\n",
    "    with open(\"data.txt\", \"a+\") as f:\n",
    "        addid = str(input(\"Input Add student ID : \"))\n",
    "        addname = str(input(\"Input Add student name : \"))\n",
    "        addbirth = str(input(\"Input Add student Date Of Birth(yyyy-mm-dd) : \"))\n",
    "        addmid = str(input(\"Input Add student midscore : \"))\n",
    "        addfinal = str(input(\"Input Add student finalscore : \"))\n",
    "        index = str(len(f_data)+1)\n",
    "        values = [index, addid,addname,addbirth,addmid,addfinal]\n",
    "        for value in values:\n",
    "            str_value = str(value)\n",
    "            f.write(str_value)\n",
    "            f.write(\"\\t\")\n",
    "        f.write(\"\\n\")\n",
    "        f.close()"
   ]
  },
  {
   "cell_type": "code",
   "execution_count": 112,
   "metadata": {
    "collapsed": false
   },
   "outputs": [
    {
     "name": "stdout",
     "output_type": "stream",
     "text": [
      "Input student ID or Name: 임길동\n",
      "중간과 기말평균점수는 49.5 이고, 등급은 D 입니다\n"
     ]
    }
   ],
   "source": [
    "def find_item():\n",
    "    f_list = str(input(\"Input student ID or Name: \"))\n",
    "    with open(\"data.txt\", \"r\") as f:\n",
    "        f_data= f.readlines()\n",
    "    su = find_in_sublists(f_data,f_list)\n",
    "    su1 = su[0]\n",
    "    a = f_data[su1]\n",
    "    b = int(a[26:28])  #중간점수 가져오는거 수정필요(일련번호 두자리되면 gg)\n",
    "    c = int(a[29:31])  #기말점수 가져오는거 수정필요\n",
    "    aver = (b+c)/2\n",
    "    if aver >= 90:\n",
    "        print(f\"중간과 기말평균점수는 {aver} 이고, 등급은 A 입니다\")\n",
    "    elif aver >= 70:\n",
    "        print(f\"중간과 기말평균점수는 {aver} 이고, 등급은 B 입니다\")\n",
    "    elif aver >= 50:\n",
    "        print(f\"중간과 기말평균점수는 {aver} 이고, 등급은 C 입니다\")\n",
    "    elif aver >= 30:\n",
    "        print(f\"중간과 기말평균점수는 {aver} 이고, 등급은 D 입니다\")\n",
    "    else:\n",
    "        print(f\"중간과 기말평균점수는 {aver} 이고, 등급은 F 입니다\")"
   ]
  }
 ],
 "metadata": {
  "kernelspec": {
   "display_name": "Python 3",
   "language": "python",
   "name": "python3"
  },
  "language_info": {
   "codemirror_mode": {
    "name": "ipython",
    "version": 3
   },
   "file_extension": ".py",
   "mimetype": "text/x-python",
   "name": "python",
   "nbconvert_exporter": "python",
   "pygments_lexer": "ipython3",
   "version": "3.6.0"
  }
 },
 "nbformat": 4,
 "nbformat_minor": 2
}
